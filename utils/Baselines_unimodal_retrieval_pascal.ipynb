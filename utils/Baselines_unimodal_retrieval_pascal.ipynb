{
 "cells": [
  {
   "cell_type": "code",
   "execution_count": 2,
   "metadata": {},
   "outputs": [],
   "source": [
    "import os\n",
    "import pandas as pd\n",
    "import numpy as np\n",
    "import sys\n",
    "import traceback\n",
    "import pickle\n",
    "\n",
    "#my libraries\n",
    "src_path = 'path_to_src'\n",
    "datar = 'path_to_data'\n",
    "# add src_path if it's located in another path\n",
    "#sys.path.append(os.path.join(src_path,'multimodal_retrieval/'))"
   ]
  },
  {
   "cell_type": "markdown",
   "metadata": {},
   "source": [
    "### Reading data"
   ]
  },
  {
   "cell_type": "code",
   "execution_count": null,
   "metadata": {},
   "outputs": [],
   "source": [
    "datapath = os.path,join(datar,'datasets/pascal/gen/')"
   ]
  },
  {
   "cell_type": "code",
   "execution_count": 4,
   "metadata": {},
   "outputs": [],
   "source": [
    "# val indexes\n",
    "with open(os.path.join(datapath,'indexes.pkl'),'rb') as f:\n",
    "    ind = pickle.load(f) #ind['train/val']\n",
    "val_i = ind['val']"
   ]
  },
  {
   "cell_type": "code",
   "execution_count": 4,
   "metadata": {},
   "outputs": [],
   "source": [
    "# GT_r-->{'2008_000716.jpg': 0,'2008_000716.txt': 0,\n",
    "# ids_i -->1:'2008_000716.jpg',"
   ]
  },
  {
   "cell_type": "code",
   "execution_count": 5,
   "metadata": {},
   "outputs": [
    {
     "data": {
      "text/plain": [
       "400"
      ]
     },
     "execution_count": 5,
     "metadata": {},
     "output_type": "execute_result"
    }
   ],
   "source": [
    "import pickle\n",
    "# reading resnet101 features \n",
    "data_f = os.path,join(datar,'datasets/pascal/gen/resnet_all.pkl')\n",
    "with open(data_f,'rb') as f:\n",
    "    images = pickle.load(f)\n",
    "    \n",
    "# correspondance between id and img code\n",
    "with open(os.path.join(datapath,'idS_id_im.pkl'), 'rb') as f:\n",
    "    ids_i = pickle.load(f)\n",
    "    \n",
    "images_f = {}\n",
    "for idx in val_i:\n",
    "    try:        \n",
    "        images_f[ids_i.get(idx)] = images.get(idx).squeeze()\n",
    "    except Exception as e:\n",
    "        print ('CORRUPTED IMAGE: ',idx)\n",
    "        print('Exception: %s',\"\".join(traceback.format_exception(*sys.exc_info())))\n",
    "len(images_f)"
   ]
  },
  {
   "cell_type": "code",
   "execution_count": 8,
   "metadata": {},
   "outputs": [
    {
     "data": {
      "text/plain": [
       "400"
      ]
     },
     "execution_count": 8,
     "metadata": {},
     "output_type": "execute_result"
    }
   ],
   "source": [
    "import pickle\n",
    "# reading resnet101 features\n",
    "data_f = os.path,join(datar,'datasets/pascal/gen/bert_all.pkl')\n",
    "with open(data_f,'rb') as f:\n",
    "    texts = pickle.load(f)\n",
    "len(texts)\n",
    "\n",
    "# correspondance between id and txt code\n",
    "with open(os.path.join(datapath,'idS_id_tx.pkl'), 'rb') as f:\n",
    "    ids_t = pickle.load(f)\n",
    "\n",
    "texts_f = {}\n",
    "for idx in val_i:\n",
    "    try:        \n",
    "        texts_f[ids_t.get(idx)] = texts.get(idx)[0]\n",
    "    except Exception as e:\n",
    "        print ('CORRUPTED Text: ',s_id)\n",
    "        print('Exception: %s',\"\".join(traceback.format_exception(*sys.exc_info())))\n",
    "len(texts_f)"
   ]
  },
  {
   "cell_type": "markdown",
   "metadata": {},
   "source": [
    "### Retrieval"
   ]
  },
  {
   "cell_type": "code",
   "execution_count": 9,
   "metadata": {},
   "outputs": [
    {
     "data": {
      "text/html": [
       "<div>\n",
       "<style scoped>\n",
       "    .dataframe tbody tr th:only-of-type {\n",
       "        vertical-align: middle;\n",
       "    }\n",
       "\n",
       "    .dataframe tbody tr th {\n",
       "        vertical-align: top;\n",
       "    }\n",
       "\n",
       "    .dataframe thead th {\n",
       "        text-align: right;\n",
       "    }\n",
       "</style>\n",
       "<table border=\"1\" class=\"dataframe\">\n",
       "  <thead>\n",
       "    <tr style=\"text-align: right;\">\n",
       "      <th></th>\n",
       "      <th>task</th>\n",
       "      <th>distances</th>\n",
       "      <th>10</th>\n",
       "      <th>100</th>\n",
       "      <th>200</th>\n",
       "      <th>399</th>\n",
       "    </tr>\n",
       "  </thead>\n",
       "  <tbody>\n",
       "    <tr>\n",
       "      <th>0</th>\n",
       "      <td>img2img</td>\n",
       "      <td>corr</td>\n",
       "      <td>0.584166</td>\n",
       "      <td>0.405649</td>\n",
       "      <td>0.376744</td>\n",
       "      <td>0.361904</td>\n",
       "    </tr>\n",
       "    <tr>\n",
       "      <th>0</th>\n",
       "      <td>txt2txt</td>\n",
       "      <td>corr</td>\n",
       "      <td>0.449603</td>\n",
       "      <td>0.274277</td>\n",
       "      <td>0.230443</td>\n",
       "      <td>0.196236</td>\n",
       "    </tr>\n",
       "  </tbody>\n",
       "</table>\n",
       "</div>"
      ],
      "text/plain": [
       "      task distances        10       100       200       399\n",
       "0  img2img      corr  0.584166  0.405649  0.376744  0.361904\n",
       "0  txt2txt      corr  0.449603  0.274277  0.230443  0.196236"
      ]
     },
     "execution_count": 9,
     "metadata": {},
     "output_type": "execute_result"
    }
   ],
   "source": [
    "#my libraries\n",
    "from evaluation import eval_wiki_retrieval as ev_r#import calc_distances, get_AP   \n",
    "\n",
    "# For retrieval\n",
    "with open(os.path.join(datapath,'txt_img_cat.pkl'), 'rb') as f:\n",
    "    GT_samples = pickle.load(f)\n",
    "\n",
    "distances = ['corr']#,'eu','cos']\n",
    "topks = [10,100,200,399]  \n",
    "\n",
    "maps1 = ev_r.calc_distances(images_f,images_f,'img2img',topks,distances,GT_samples)\n",
    "maps2 = ev_r.calc_distances(texts_f,texts_f,'txt2txt',topks,distances,GT_samples)\n",
    "mapt_uni = pd.concat([maps1, maps2], axis=0)\n",
    "mapt_uni = mapt_uni[['task','distances']+topks]\n",
    "mapt_uni"
   ]
  }
 ],
 "metadata": {
  "kernelspec": {
   "display_name": "Python 3",
   "language": "python",
   "name": "python3"
  },
  "language_info": {
   "codemirror_mode": {
    "name": "ipython",
    "version": 3
   },
   "file_extension": ".py",
   "mimetype": "text/x-python",
   "name": "python",
   "nbconvert_exporter": "python",
   "pygments_lexer": "ipython3",
   "version": "3.6.8"
  }
 },
 "nbformat": 4,
 "nbformat_minor": 2
}
